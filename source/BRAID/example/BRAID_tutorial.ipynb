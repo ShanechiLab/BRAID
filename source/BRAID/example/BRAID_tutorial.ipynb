{
 "cells": [
  {
   "cell_type": "markdown",
   "metadata": {},
   "source": [
    "  Written by: Parsa Vahidi\n",
    "\n",
    "  Last update: Feb, 2025"
   ]
  },
  {
   "cell_type": "markdown",
   "metadata": {},
   "source": [
    "   # Using BRAID\n",
    "   ## Modeling data\n",
    "   To use BRAID, you first need to import the BRAIDModel and MainModel classes, for example by running:\n",
    "   ```python\n",
    "   from BRAID.MainModel import MainModel, BRAIDModelPrepareArgs\n",
    "   from BRAID import BRAIDModel\n",
    "   ```\n",
    "\n",
    "   You can then use it to model data as:\n",
    "   ```python\n",
    "   idSys = BRAIDModel()\n",
    "   methodCode = 'BRAID_Cz1HL64U' # Only Cz will be nonlinear, 1 Hidden layer with 64 Units.\n",
    "   args = MainModelPrepareArgs(methodCode)\n",
    "   idSys.fit(Y, Z, U=U, nx=6, n1=2, n3=None, n_pre=None, args_base=args)\n",
    "   ```\n",
    "\n",
    "   With the following arguments:\n",
    "   - `Y`: Neural (e.g. Smoothed spike counts or LFP signal powers), Dimensions are: data x time.\n",
    "  \n",
    "   - `Z`: behavioral data (e.g. joint angles, hand position, etc), Dimensions are: data x time.\n",
    "\n",
    "   - `U`: Input data (e.g. sesnory stimuli, electrical stimulation, etc), Dimensions are: data x time.\n",
    "\n",
    "   - `nx`: the total dimension of the latent state in the model.\n",
    "\n",
    "   - `n1`: the number of latent state dimensions that are going to be dedicated to behaviorally relevant neural dynamics.\n",
    "  \n",
    "   - `n3`: the number of latent state dimensions dedicated to behavior-specific dynamics. By default set to None to disable this iptional dynamics. (in effect only if \"nx > n1 AND n3 not None\").\n",
    "\n",
    "   - `n_pre`: the number of latent state dimensions of the optional preprocessing model. By default set to None to avoid this preprocessing stage.\n",
    "\n",
    "   - args: other arguments that specify training settings and the type of nonlinearity in each parameter within the model.\n",
    "\n",
    "   A helper function called `BRAIDModelPrepareArgs` can be used to prepare the additional arguments `args` that are passed to `idSys.fit`. This function simply takes `methodCode` string as input and returns the relevant arguments to pass to `idSys.fit`. For example, in the above code `methodCode` is `'BRAID_Cz1HL64U'`. In this case, only the behavior readout parameter $C_z$ of the learned model will be nonlinear and all other parameters will be linear. You can inspect the output of `BRAIDModelPrepareArgs` to see how the architecture of each linear/nonlinear model parameter can be specified as an argument to `idSys.fit`.\n",
    "\n",
    "  After running the above, the learned model will be stored in the `BRAIDModel.sId` object called `idSys.sId`.\n",
    "\n",
    "   ## Using the model for dimension reduction, state estimation, neural self-prediction and behavior decoding\n",
    "   For a learned BRAID model `idSys` you can use the `predict` method to extract the latent state and predict behavior and neural activity given any new neural data as:\n",
    "   ```python\n",
    "   zPred, yPred, xPred = idSys.predict(yTest, U=uYest)\n",
    "   ```\n",
    "   With the argument:\n",
    "   - `yTest`: Neural activity `y` in the test data. Dimensions are: time x data dimension.\n",
    "\n",
    "   - `uTest`: Input `y` in the test data. Dimensions are: time x data dimension.\n",
    "\n",
    "   And with outputs (all dimensions are time x data dimension):\n",
    "   - `zPred`: Prediction of behavior using past neural activity at each data point.\n",
    "\n",
    "   - `yPred`: Prediction of neural activity using past neural activity and inputs at each data point.\n",
    "\n",
    "   - `xPred`: The latent state extracted at each data point.\n",
    "\n",
    "   We will next go through two complete examples of using BRAID in data."
   ]
  },
  {
   "cell_type": "markdown",
   "metadata": {},
   "source": [
    "# Example 1: Full BRAID example including preprocessing on simulated data with nonlinear behavior decoder Cz \n",
    "   In this example, we will use BRAID (including the behavior preprocessing stage) to model some simulated data and demonstrate its use case in that data.\n",
    "\n",
    "   First, we import BRAID and a few other useful tools from BRAID and other libraries."
   ]
  },
  {
   "cell_type": "code",
   "execution_count": 1,
   "metadata": {},
   "outputs": [],
   "source": [
    "import logging\n",
    "import os\n",
    "import sys\n",
    "\n",
    "sys.path.insert(0, os.path.join(\"..\", \"..\"))\n",
    "sys.path.insert(0, os.path.join(os.path.dirname(os.path.abspath('')), \"..\", \"..\"))\n",
    "\n",
    "# Setting up logs\n",
    "logging.basicConfig(level=logging.INFO)\n",
    "logger = logging.getLogger(__name__)\n",
    "\n",
    "import coloredlogs\n",
    "\n",
    "coloredlogs.install(\n",
    "    level=logging.INFO,\n",
    "    fmt=\"%(asctime)s %(name)s [%(filename)s > %(lineno)s] %(levelname)s %(message)s\",\n",
    "    datefmt=\"%Y-%m-%d %H:%M:%S\",\n",
    "    logger=logger,\n",
    ")\n",
    "\n",
    "# Prepare plots\n",
    "import matplotlib\n",
    "import matplotlib.pyplot as plt\n",
    "import numpy as np\n",
    "from matplotlib import patches\n",
    "\n",
    "matplotlib.rcParams[\"figure.facecolor\"] = \"w\"\n",
    "matplotlib.rcParams[\"axes.facecolor\"] = \"w\"\n",
    "matplotlib.rcParams.update(\n",
    "    {\"font.size\": 16, \"axes.titlesize\": 14, \"axes.labelsize\": 14}\n",
    ")\n",
    "\n",
    "# Import BRAID tools\n",
    "import BRAID\n",
    "from BRAID.BRAIDModel import BRAIDModel, runPredict\n",
    "from BRAID.MainModel import MainModel, MainModelPrepareArgs\n",
    "from BRAID.tools.evaluation import computeEigIdError, evalPrediction, evaluateDecoding\n",
    "from BRAID.tools.file_tools import pickle_load\n",
    "from BRAID.tools.LSSM import LSSM\n",
    "from BRAID.tools.SSM import SSM\n",
    "\n",
    "# Set random seeds for exact reproducibility\n",
    "seed = 42\n",
    "import random\n",
    "\n",
    "import numpy as np\n",
    "import tensorflow as tf\n",
    "\n",
    "random.seed(seed)\n",
    "np.random.seed(seed)\n",
    "tf.random.set_seed(seed)"
   ]
  },
  {
   "cell_type": "markdown",
   "metadata": {},
   "source": [
    "   Let's start by loading data from an example model where only $C_z$ is nonlinear:\n",
    "   \n",
    "   An example simulated data with trigonometric behavioral mapping (nonlinear Cz) and the true underlying generative model are loaded from ./data/sample_data_CzNL_prep.p"
   ]
  },
  {
   "cell_type": "code",
   "execution_count": 2,
   "metadata": {},
   "outputs": [
    {
     "name": "stdout",
     "output_type": "stream",
     "text": [
      "Loading example data from ..\\..\\BRAID\\..\\..\\data\\sample_data_CzNL_prep.p\n"
     ]
    }
   ],
   "source": [
    "data_dir = os.path.join(os.path.dirname(BRAID.__file__), \"..\", \"..\", \"data\")\n",
    "fName1 = \"sample_data_CzNL_prep.p\"\n",
    "sample_data_path1 = os.path.join(data_dir, fName1)\n",
    "\n",
    "print(\"Loading example data from {}\".format(sample_data_path1))\n",
    "data1 = pickle_load(sample_data_path1)\n",
    "\n",
    "maxN = int(2 * 1e4)  # Number of data points to use in this notebook\n",
    "N = np.min((maxN, data1[\"x\"].shape[0]))\n",
    "x = data1[\"x\"][:N, :] # get data\n",
    "y = data1[\"y\"][:N, :]\n",
    "z = data1[\"z\"][:N, :]\n",
    "u = data1[\"u\"][:N, :]\n",
    "trueLSSM = LSSM(params=data1['csys']) \n",
    "trueModel_main = SSM(lssm=trueLSSM, params=data1['csys']) # Create the object containing the main true model corresponding to [X1, X2]^T\n",
    "trueModel_beh = LSSM(params=data1['csys']['zErrSys']) # Create the object that contains the true model corresponding to X3 (behavior-specific dynamics)\n",
    "nx = trueModel_main.state_dim  # Dimesnionality of the main model (true n1+n2)\n",
    "n1 = len(trueModel_main.zDims)  # The number of encoded latent states in the simulated model that drive behavior (behaviorally relevant neural dynamics)\n",
    "\n",
    "allYData, allZData, allUData = y, z, u"
   ]
  },
  {
   "cell_type": "markdown",
   "metadata": {},
   "source": [
    "   Let's separate the data into training and test segments."
   ]
  },
  {
   "cell_type": "code",
   "execution_count": 3,
   "metadata": {},
   "outputs": [],
   "source": [
    "# Separate data into training and test data:\n",
    "testInds = np.arange(np.round(0.5 * allYData.shape[0]), dtype=int)\n",
    "trainInds = np.arange(1 + testInds[-1], allYData.shape[0])\n",
    "yTrain = allYData[trainInds, :]\n",
    "yTest = allYData[testInds, :]\n",
    "zTrain = allZData[trainInds, :]\n",
    "zTest = allZData[testInds, :]\n",
    "uTrain = allUData[trainInds, :]\n",
    "uTest = allUData[testInds, :]"
   ]
  },
  {
   "cell_type": "markdown",
   "metadata": {},
   "source": [
    "Now we normalize data before training:"
   ]
  },
  {
   "cell_type": "code",
   "execution_count": 4,
   "metadata": {},
   "outputs": [],
   "source": [
    "# Normalize data (removing the mean is essential before training):\n",
    "yMean, yStd = np.mean(yTrain,axis=0), np.std(yTrain,axis=0)\n",
    "yTrainN, yTestN = (yTrain - yMean)/yStd, (yTest - yMean)/yStd\n",
    "\n",
    "zMean, zStd = np.mean(zTrain,axis=0), np.std(zTrain,axis=0)\n",
    "zTrainN, zTestN = (zTrain - zMean)/zStd, (zTest - zMean)/zStd\n",
    "\n",
    "uMean, uStd = np.mean(uTrain,axis=0), np.std(uTrain,axis=0)\n",
    "uTrainN, uTestN = (uTrain - uMean)/uStd, (uTest - uMean)/uStd"
   ]
  },
  {
   "cell_type": "markdown",
   "metadata": {},
   "source": [
    "Training the model:"
   ]
  },
  {
   "cell_type": "code",
   "execution_count": null,
   "metadata": {},
   "outputs": [],
   "source": [
    "# Fit BRAID model to data:\n",
    "\n",
    "idSysF = BRAIDModel()\n",
    "\n",
    "methodCode = 'BRAID_Cz1HL64U' # An BRAID Model with a nonlinear behavior decoder Cz, implemented as an MLP with 1 Hidden layer and 64 Units.\n",
    "\n",
    "# The following function takes a method name as string and parses settings for fitting BRAID model. Please read the function for details.\n",
    "args = MainModelPrepareArgs(methodCode) \n",
    "# 'Cz1HL64U' denoted using an MLP as Cz with 1 hidden layer and 64 hidden units\n",
    "\n",
    "args['epochs'] = 2500 # Default for this is 2500. Fitting will stop upon convergence or after at most the specified number of # epochs. 2500 as the max number of epochs is usually more than enough.\n",
    "\n",
    "# Fitting BRAID Model with the ground truth dimensions. \n",
    "# Parameter n_pre defines the dimension of the preprocessing RNN (x0)\n",
    "# Parameter n3 defines the number of behavior-specific states to be learned after stages 1 and 2 are done.\n",
    "idSysF.fit(yTrainN.T, Z=zTrainN.T, U=uTrainN.T, nx=nx+trueModel_beh.state_dim, n1=n1, n3=trueModel_beh.state_dim, n_pre=nx, args_base=args)\n",
    "idSysF.yMean, idSysF.yStd,  idSysF.zMean, idSysF.zStd,  idSysF.uMean, idSysF.uStd =  yMean, yStd,  zMean, zStd,  uMean, uStd # saving preprocessing info in model objects to use during inference in runPredict function\n",
    "print('Training finished after {} epochs'.format(len(idSysF.sId.logs['model1']['history']['loss'])))"
   ]
  },
  {
   "cell_type": "markdown",
   "metadata": {},
   "source": [
    "Inference on test data and calculating prediction performances:"
   ]
  },
  {
   "cell_type": "code",
   "execution_count": 6,
   "metadata": {},
   "outputs": [
    {
     "name": "stdout",
     "output_type": "stream",
     "text": [
      "Computing predictions for the learned model\n",
      "Computing predictions for the true model (slower due to the analytical symbolic implementation of nonlinearity in the true model)\n"
     ]
    },
    {
     "name": "stderr",
     "output_type": "stream",
     "text": [
      "Estimating latent states: 100%|██████████| 10000/10000 [00:00<00:00, 34668.40it/s]\n",
      "applying Cz: 100%|██████████| 10000/10000 [00:11<00:00, 887.45it/s]"
     ]
    },
    {
     "name": "stdout",
     "output_type": "stream",
     "text": [
      "Behavior decoding CC:\n",
      "  BRAID => 0.9, Ideal using true model => 0.948\n",
      "Neural self-prediction CC:\n",
      "  BRAID => 0.86, Ideal using true model => 0.86\n",
      "End of example 1!\n"
     ]
    },
    {
     "name": "stderr",
     "output_type": "stream",
     "text": [
      "\n"
     ]
    }
   ],
   "source": [
    "# Inference:\n",
    "# Predict behavior and neural activity, from past neural activity and inputs, using the learned model\n",
    "print(\"Computing predictions for the learned model\")\n",
    "# This function takes test data (unnormalized). Normalization happens inside runPredict given the saved mean and std attributes\n",
    "zTestPredF, yTestPredF, xTestPredF, _, _, _ = runPredict(idSysF, yTest, zTest, uTest, YType='cont', ZType='cont')\n",
    "# runPredict function outputs are lists of length= #steps_ahead desired for inference which is taken from the field: idSysF.step_ahead\n",
    "# Here we are only looking at 1-step-ahead predictions i.e., the lists only have one element:\n",
    "zTestPredF, yTestPredF, xTestPredF = zTestPredF[0], yTestPredF[0], xTestPredF[0] \n",
    "\n",
    "# Compute CC of decoding and self-prediction\n",
    "zCCNonLinF = evalPrediction(zTestN, zTestPredF, \"CC\")\n",
    "yCCNonLinF = evalPrediction(yTestN, yTestPredF, \"CC\")\n",
    "\n",
    "# Decode behavior and do neural self-prediction using the true model for comparison\n",
    "print(\"Computing predictions for the true model (slower due to the analytical symbolic implementation of nonlinearity in the true model)\")\n",
    "zTestPredIdeal, yTestPredIdeal, xTestPredIdeal, _, _, _ = runPredict(trueModel_main, yTest, zTest, uTest, YType='cont', ZType='cont')\n",
    "zTestPredIdeal, yTestPredIdeal, xTestPredIdeal = zTestPredIdeal[0], yTestPredIdeal[0], xTestPredIdeal[0] \n",
    "\n",
    "zCCIdeal = evalPrediction(zTest, zTestPredIdeal, \"CC\")\n",
    "yCCIdeal = evalPrediction(yTest, yTestPredIdeal, \"CC\")\n",
    "\n",
    "print(\n",
    "    f\"Behavior decoding CC:\\n  BRAID => {np.mean(zCCNonLinF):.3g}, Ideal using true model => {np.mean(zCCIdeal):.3g}\"\n",
    ")\n",
    "print(\n",
    "    f\"Neural self-prediction CC:\\n  BRAID => {np.mean(yCCNonLinF):.3g}, Ideal using true model => {np.mean(yCCIdeal):.3g}\"\n",
    ")\n",
    "\n",
    "print('End of example 1!')"
   ]
  },
  {
   "cell_type": "markdown",
   "metadata": {},
   "source": [
    "## Example 2: BRAID forecasting example on simulated data with nonlinear behavior decoder \n"
   ]
  },
  {
   "cell_type": "code",
   "execution_count": 7,
   "metadata": {},
   "outputs": [
    {
     "name": "stdout",
     "output_type": "stream",
     "text": [
      "Loading example data from ..\\..\\BRAID\\..\\..\\data\\sample_data_CzNL.p\n"
     ]
    }
   ],
   "source": [
    "# Load data\n",
    "# An example simulated data with trigonometric behavioral mapping (nonlinear Cz)\n",
    "# and the true underlying generative model are loaded from ./data/sample_data_CzNL.p\n",
    "data_dir = os.path.join(os.path.dirname(BRAID.__file__), \"..\", \"..\", \"data\")\n",
    "fName2 = \"sample_data_CzNL.p\"\n",
    "sample_data_path2 = os.path.join(data_dir, fName2)\n",
    "\n",
    "print(\"Loading example data from {}\".format(sample_data_path2))\n",
    "data2 = pickle_load(sample_data_path2)\n",
    "# This data is from an example model from results shown in Fig. 2a-d, with nonlinearity only in the behavior readout parameter Cz.\n",
    "\n",
    "maxN = int(2 * 1e4)  # Number of data points to use in this notebook\n",
    "N = np.min((maxN, data2[\"x\"].shape[0]))\n",
    "x = data2[\"x\"][:N, :]\n",
    "y = data2[\"y\"][:N, :]\n",
    "z = data2[\"z\"][:N, :]\n",
    "u = data2[\"u\"][:N, :]\n",
    "\n",
    "trueLSSM = LSSM(params=data2['csys'])\n",
    "trueModel_main = SSM(lssm=trueLSSM, params=data2['csys']) #data[\"csys\"]  # The object that contains the true corresponding to [X1, X2]^T\n",
    "\n",
    "trueLSSM = LSSM(params=data2['csys'])\n",
    "trueModel = SSM(lssm=trueLSSM, params=data2['csys']) \n",
    "nx = trueModel.state_dim  # Total number of latent states in the simulated model\n",
    "n1 = len(trueModel.zDims)  # The number of encoded latent states in the simulated model that drive behavior (behaviorally relevant neural dynamics)\n",
    "\n",
    "allYData, allZData, allUData = y, z, u"
   ]
  },
  {
   "cell_type": "code",
   "execution_count": 8,
   "metadata": {},
   "outputs": [],
   "source": [
    "# Separate data into training and test data:\n",
    "testInds = np.arange(np.round(0.5 * allYData.shape[0]), dtype=int)\n",
    "trainInds = np.arange(1 + testInds[-1], allYData.shape[0])\n",
    "yTrain = allYData[trainInds, :]\n",
    "yTest = allYData[testInds, :]\n",
    "zTrain = allZData[trainInds, :]\n",
    "zTest = allZData[testInds, :]\n",
    "uTrain = allUData[trainInds, :]\n",
    "uTest = allUData[testInds, :]\n",
    "\n",
    "# Normalize data:\n",
    "yMean, yStd = np.mean(yTrain,axis=0), np.std(yTrain,axis=0)\n",
    "yTrainN, yTestN = (yTrain - yMean)/yStd, (yTest - yMean)/yStd\n",
    "\n",
    "zMean, zStd = np.mean(zTrain,axis=0), np.std(zTrain,axis=0)\n",
    "zTrainN, zTestN = (zTrain - zMean)/zStd, (zTest - zMean)/zStd\n",
    "\n",
    "uMean, uStd = np.mean(uTrain,axis=0), np.std(uTrain,axis=0)\n",
    "uTrainN, uTestN = (uTrain - uMean)/uStd, (uTest - uMean)/uStd\n"
   ]
  },
  {
   "cell_type": "markdown",
   "metadata": {},
   "source": [
    "This time, we include multi-step ahead optimization in training loss"
   ]
  },
  {
   "cell_type": "code",
   "execution_count": null,
   "metadata": {},
   "outputs": [],
   "source": [
    "# Fit BRAID model to data for forecasting:\n",
    "idSys = BRAIDModel()\n",
    "# 'ObsUKfw' makes U signal observable when forecasting. (sets the parametr observable_U_in_Kfw=True in MainModel)\n",
    "# 'ObsUCfw' makes U signal observable as a feedthrough when forecasting. (sets the parametr observable_U_in_Cfw=True in MainModel)\n",
    "methodCode = 'BRAID_Cz1HL64U_ObsUKfw_ObsUCfw_sta1;4;5' # An BRAID Model with a nonlinear behavior decoder Cz, implemented as an MLP with 1 Hidden layer and 64 Units.\n",
    "# The above method code will be parsed in the next line and 'sta1;4;5' is interpreted as steps_ahead=[1,5].\n",
    "\n",
    "args = MainModelPrepareArgs(methodCode) # This function takes a method name as string and parses settings for fitting BRAID model. Please read the function for details.\n",
    "args['epochs'] = 2500 # Default for this is 2500. Fitting will stop upon convergence or after at most the specified number of # epochs. 2500 as the max number of epochs is usually more than enough.\n",
    "idSys.fit(yTrainN.T, Z=zTrainN.T, U=uTrainN.T, nx=nx, n1=n1, args_base=args)\n",
    "idSysF = idSys.sId\n",
    "idSysF.yMean, idSysF.yStd,  idSysF.zMean, idSysF.zStd,  idSysF.uMean, idSysF.uStd =  yMean, yStd,  zMean, zStd,  uMean, uStd\n",
    "print('Training finished after {} epochs'.format(len(idSysF.logs['model1']['history']['loss'])))\n"
   ]
  },
  {
   "cell_type": "markdown",
   "metadata": {},
   "source": [
    "Forecasting on test data"
   ]
  },
  {
   "cell_type": "code",
   "execution_count": null,
   "metadata": {},
   "outputs": [],
   "source": [
    "# Inference:\n",
    "steps_ahead = [1,2,4,8,16,32] # steps_ahead we want to evaluate the learned model on\n",
    "idSysF.set_steps_ahead(steps_ahead)\n",
    "idSysF.zDims = np.arange(1, 1+min([n1, nx]))\n",
    "# Predict behavior and neural activity, from past neural activity and inputs, using the learned model\n",
    "print(\"Computing predictions for the learned model\")\n",
    "zTestPredF, yTestPredF, xTestPredF, _, _, _ = runPredict(idSysF, yTest, zTest, uTest, YType='cont', ZType='cont')\n",
    "# runPredict function outputs are lists of length= #steps_ahead desired for inference which is taken from the field: idSysF.step_ahead\n",
    "\n",
    "# Compute CC of decoding and self-prediction\n",
    "zCCNonLinF, yCCNonLinF = np.nan*np.ones((len(steps_ahead),1)), np.nan*np.ones((len(steps_ahead),1))\n",
    "for sai, step in enumerate(steps_ahead):\n",
    "    zCCNonLinF[sai] = evalPrediction(zTestN[step-1:,:], zTestPredF[sai][step-1:,:], \"CC\")\n",
    "    yCCNonLinF[sai] = evalPrediction(yTestN[step-1:,:], yTestPredF[sai][step-1:,:], \"CC\")\n",
    "\n",
    "# Decode behavior and do neural self-prediction using the true model for comparison\n",
    "print(\n",
    "    \"Computing predictions for the true model (slower due to the analytical symbolic implementation of nonlinearity in the true model)\"\n",
    ")\n",
    "trueModel.steps_ahead = steps_ahead\n",
    "zTestPredIdeal, yTestPredIdeal, xTestPredIdeal, _, _, _ = runPredict(trueModel, yTest, zTest, uTest, YType='cont', ZType='cont') # True model accepts non-normalized data\n",
    "zCCIdeal, yCCIdeal = np.nan*np.ones((len(steps_ahead),1)), np.nan*np.ones((len(steps_ahead),1))\n",
    "for sai, step in enumerate(steps_ahead):\n",
    "    zCCIdeal[sai] = evalPrediction(zTest[step-1:,:], zTestPredIdeal[sai][step-1:,:], \"CC\")\n",
    "    yCCIdeal[sai] = evalPrediction(yTest[step-1:,:], yTestPredIdeal[sai][step-1:,:], \"CC\")"
   ]
  },
  {
   "cell_type": "markdown",
   "metadata": {},
   "source": [
    "Plotting forecasting performance vs ground truth model performance"
   ]
  },
  {
   "cell_type": "code",
   "execution_count": 11,
   "metadata": {},
   "outputs": [
    {
     "data": {
      "text/plain": [
       "(0.0, 1.0)"
      ]
     },
     "execution_count": 11,
     "metadata": {},
     "output_type": "execute_result"
    },
    {
     "data": {
      "image/png": "[encoded data removed]",
      "text/plain": [
       "<Figure size 600x700 with 2 Axes>"
      ]
     },
     "metadata": {},
     "output_type": "display_data"
    }
   ],
   "source": [
    "# Plot forecasting\n",
    "plt.figure(figsize=(6,7))\n",
    "ax = plt.axis()\n",
    "xlabel = 'log2 # step ahead'\n",
    "plt.subplot(2,1,1)\n",
    "plt.plot(np.log2(np.array(steps_ahead)), zCCNonLinF, label='BRAID_Cz')\n",
    "plt.plot(np.log2(np.array(steps_ahead)), zCCIdeal, label='Ideal')\n",
    "plt.legend(bbox_to_anchor=(0.5, 1.8), loc='upper center')\n",
    "plt.xlabel(xlabel)\n",
    "plt.ylabel('Behavior decoding CC')\n",
    "plt.grid(linewidth=0.5, alpha=0.5)\n",
    "plt.ylim([0,1])\n",
    "\n",
    "plt.subplot(2,1,2)\n",
    "plt.plot(np.log2(np.array(steps_ahead)), yCCNonLinF, label='BRAID_Cz')\n",
    "plt.plot(np.log2(np.array(steps_ahead)), yCCIdeal, label='Ideal')\n",
    "plt.legend(bbox_to_anchor=(0.5, 1.8), loc='upper center')\n",
    "plt.xlabel(xlabel)\n",
    "plt.ylabel('Neural self-prediction CC')\n",
    "plt.grid(linewidth=0.5, alpha=0.5)\n",
    "plt.subplots_adjust(left=0.2,bottom=0.1, right=0.8, top=0.7, wspace=0.1, hspace=0.3)\n",
    "plt.ylim([0,1])"
   ]
  },
  {
   "cell_type": "markdown",
   "metadata": {},
   "source": [
    "Calculating normalized eigenvalue error"
   ]
  },
  {
   "cell_type": "code",
   "execution_count": 12,
   "metadata": {},
   "outputs": [
    {
     "name": "stdout",
     "output_type": "stream",
     "text": [
      "The normalized eignevalue error is: 0.01628279472540618\n"
     ]
    }
   ],
   "source": [
    "# Get intrinsic behavioral relevant dynamics eigenvalues and calculated normalized eigenvalue error:\n",
    "Afw_true = trueModel.A\n",
    "Afw = idSysF.model1.rnn.cell.Afw.get_weights()[0].T\n",
    "idZEigs = np.linalg.eig(Afw[list(idSysF.zDims-1)][:, list(idSysF.zDims-1)])[0]\n",
    "trueZEigs = np.linalg.eig(Afw_true)[0]\n",
    "zEigErr_Afw = computeEigIdError(trueZEigs, [idZEigs], 'NFN')[0]\n",
    "\n",
    "print('The normalized eignevalue error is: {}'.format(zEigErr_Afw))\n"
   ]
  }
 ],
 "metadata": {
  "kernelspec": {
   "display_name": "rnn_psid",
   "language": "python",
   "name": "python3"
  },
  "language_info": {
   "codemirror_mode": {
    "name": "ipython",
    "version": 3
   },
   "file_extension": ".py",
   "mimetype": "text/x-python",
   "name": "python",
   "nbconvert_exporter": "python",
   "pygments_lexer": "ipython3",
   "version": "3.9.2"
  },
  "orig_nbformat": 4
 },
 "nbformat": 4,
 "nbformat_minor": 2
}
